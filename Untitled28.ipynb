{
 "cells": [
  {
   "cell_type": "code",
   "execution_count": null,
   "id": "01477a99-f487-4caf-94b7-9202c0cb901f",
   "metadata": {},
   "outputs": [],
   "source": [
    "stats assignment 1"
   ]
  },
  {
   "cell_type": "code",
   "execution_count": null,
   "id": "63b5e247-134b-445c-8a89-25d77df598b6",
   "metadata": {},
   "outputs": [],
   "source": [
    "1. What is a random variable in probability theory"
   ]
  },
  {
   "cell_type": "code",
   "execution_count": null,
   "id": "31c02f89-df10-4edd-be6f-4fc7ead7443a",
   "metadata": {},
   "outputs": [],
   "source": [
    "A random variable is a numerical outcome of a random phenomenon. It assigns a number to each outcome in a sample space.\n",
    "\n",
    "Example: Number of heads in 3 coin tosses."
   ]
  },
  {
   "cell_type": "code",
   "execution_count": null,
   "id": "58ff3f13-d9aa-4eb8-9917-e9c799ac6429",
   "metadata": {},
   "outputs": [],
   "source": [
    "2. What are the types of random variables"
   ]
  },
  {
   "cell_type": "code",
   "execution_count": null,
   "id": "abe0a9a3-61c4-4017-b92d-6f01a2b93ee7",
   "metadata": {},
   "outputs": [],
   "source": [
    "Discrete Random Variables: Take on countable values (e.g., 0, 1, 2).\n",
    "\n",
    "Continuous Random Variables: Take on any value within a range (e.g., time, weight, height)."
   ]
  },
  {
   "cell_type": "code",
   "execution_count": null,
   "id": "cac5d947-6f0d-4a61-9769-67aec50c6708",
   "metadata": {},
   "outputs": [],
   "source": [
    "3.What is the difference between discrete and continuous distributions"
   ]
  },
  {
   "cell_type": "code",
   "execution_count": null,
   "id": "68d78e58-5592-484b-aacc-b8b2d4b51976",
   "metadata": {},
   "outputs": [],
   "source": [
    "Discrete distribution deals with distinct values (e.g., binomial).\n",
    "\n",
    "Continuous distribution deals with an infinite set of possible values within an interval (e.g., normal distribution)."
   ]
  },
  {
   "cell_type": "code",
   "execution_count": null,
   "id": "037cbea1-7f50-486c-8c43-7723e7412f5d",
   "metadata": {},
   "outputs": [],
   "source": [
    "4. What are probability distribution functions (PDF)"
   ]
  },
  {
   "cell_type": "code",
   "execution_count": null,
   "id": "35d54d51-2bc7-466e-9668-3c07227f9661",
   "metadata": {},
   "outputs": [],
   "source": [
    "For discrete variables: It's called Probability Mass Function (PMF) — gives the probability of each outcome.\n",
    "\n",
    "For continuous variables: PDF is a function whose area under the curve over an interval gives the probability of outcomes within that interval."
   ]
  },
  {
   "cell_type": "code",
   "execution_count": null,
   "id": "7dcdd4df-168f-460e-902f-c4db5ba7d7d4",
   "metadata": {},
   "outputs": [],
   "source": [
    "5. How do cumulative distribution functions (CDF) differ from probability distribution functions (PDF)"
   ]
  },
  {
   "cell_type": "code",
   "execution_count": null,
   "id": "ba5a2f78-923a-4126-999e-a57dc94e377f",
   "metadata": {},
   "outputs": [],
   "source": [
    "PDF gives the probability for a specific value (or range, in continuous cases).\n",
    "\n",
    "CDF gives the probability that the variable is less than or equal to a specific value.\n",
    "\n"
   ]
  },
  {
   "cell_type": "code",
   "execution_count": null,
   "id": "762f1e25-d0a4-4ba6-bb9b-0befd11015db",
   "metadata": {},
   "outputs": [],
   "source": [
    "6.What is a discrete uniform distribution"
   ]
  },
  {
   "cell_type": "code",
   "execution_count": null,
   "id": "b096a098-d689-4b15-8192-cc6e0722884f",
   "metadata": {},
   "outputs": [],
   "source": [
    "A discrete uniform distribution assigns equal probabilities to all outcomes in a finite set.\n",
    "\n",
    "Example: Rolling a fair die (each outcome 1–6 has P = 1/6)."
   ]
  },
  {
   "cell_type": "code",
   "execution_count": null,
   "id": "80088973-e85f-4429-a291-1eb5ac58919a",
   "metadata": {},
   "outputs": [],
   "source": [
    "7. What are the key properties of a Bernoulli distribution"
   ]
  },
  {
   "cell_type": "code",
   "execution_count": null,
   "id": "4df99133-8dd3-4e96-91a8-fea71b66d026",
   "metadata": {},
   "outputs": [],
   "source": [
    "Has only two outcomes: success (1) and failure (0).\n",
    "\n",
    "Single trial with probability p of success.\n",
    "\n",
    "Mean = p, Variance = p(1 – p)."
   ]
  },
  {
   "cell_type": "code",
   "execution_count": null,
   "id": "88d8edd7-1d96-405d-8426-bb5417d9e13a",
   "metadata": {},
   "outputs": [],
   "source": [
    "8. What is the binomial distribution, and how is it used in probability"
   ]
  },
  {
   "cell_type": "code",
   "execution_count": null,
   "id": "276cd2f5-b3f6-450b-8089-bdd8d406cddc",
   "metadata": {},
   "outputs": [],
   "source": [
    "Models the number of successes in n independent Bernoulli trials.\n",
    "\n",
    "Parameters: n (trials), p (success probability).\n",
    "\n",
    "Used in quality control, medical trials, etc."
   ]
  },
  {
   "cell_type": "code",
   "execution_count": null,
   "id": "a6141665-1f64-4d98-af79-23bbf9c7aed6",
   "metadata": {},
   "outputs": [],
   "source": [
    "9.What is the Poisson distribution and where is it applied"
   ]
  },
  {
   "cell_type": "markdown",
   "id": "c22e6d9c-468d-4d4a-8203-e58133ccb85c",
   "metadata": {},
   "source": [
    "A discrete probability distribution that models the number of times an event occurs in a fixed interval of time or space, given a constant mean rate and independence between events.\n",
    "\n",
    "Applications:\n",
    "\n",
    "Modeling the number of emails received per hour.\n",
    "\n",
    "Predicting the number of decay events per unit time from a radioactive source.\n",
    "\n",
    "Estimating the number of customer arrivals at a service center.\n",
    "\n"
   ]
  },
  {
   "cell_type": "code",
   "execution_count": null,
   "id": "fd1a5d4e-e5eb-4190-91bf-7174881067f4",
   "metadata": {},
   "outputs": [],
   "source": [
    "10.What is a continuous uniform distribution"
   ]
  },
  {
   "cell_type": "code",
   "execution_count": null,
   "id": "db1babd9-c4ad-413b-b2e0-bd1c859df0d6",
   "metadata": {},
   "outputs": [],
   "source": [
    " A distribution where all outcomes in a continuous range between two values, a and b, are equally likely.\n",
    "\n",
    "Probability Density Function (PDF):\n",
    "𝑓(x) = 1/b-a \n",
    " for a≤x≤b\n",
    "\n",
    "Applications:\n",
    "\n",
    "Modeling the probability of a bus arriving at any time within a 10-minute interval.\n",
    "\n",
    "Simulating random number generation where each number has an equal chance of occurring.\n",
    "\n"
   ]
  },
  {
   "cell_type": "code",
   "execution_count": null,
   "id": "50650029-cda4-4c2b-b5cb-d3b19780da8f",
   "metadata": {},
   "outputs": [],
   "source": [
    "11. What are the characteristics of a normal distribution"
   ]
  },
  {
   "cell_type": "code",
   "execution_count": null,
   "id": "5d29a370-8a8c-4589-919f-8c7d9c6d5a97",
   "metadata": {},
   "outputs": [],
   "source": [
    "Characteristics:\n",
    "\n",
    "Symmetrical, bell-shaped curve.\n",
    "\n",
    "Mean = Median = Mode.\n",
    "\n",
    "Defined by two parameters: mean (μ) and standard deviation (σ).\n",
    "\n",
    "Empirical Rule: Approximately 68% of data falls within ±1σ, 95% within ±2σ, and 99.7% within ±3σ of the mean."
   ]
  },
  {
   "cell_type": "code",
   "execution_count": null,
   "id": "56974089-5295-4441-8ef0-c4dcc7ad1ad3",
   "metadata": {},
   "outputs": [],
   "source": [
    "12. What is the standard normal distribution, and why is it important"
   ]
  },
  {
   "cell_type": "code",
   "execution_count": null,
   "id": "8d73e195-a5e7-4e86-ad62-dbfd54a411c1",
   "metadata": {},
   "outputs": [],
   "source": [
    "Definition: A special case of the normal distribution with a mean of 0 and a standard deviation of 1.\n",
    "\n",
    "Importance:\n",
    "\n",
    "Facilitates the calculation of probabilities and critical values using Z-scores.\n",
    "\n",
    "Enables comparison between different normal distributions by standardizing values.\n",
    "\n"
   ]
  },
  {
   "cell_type": "code",
   "execution_count": null,
   "id": "c41d4a24-a2f0-46d3-a404-fc1cc8785488",
   "metadata": {},
   "outputs": [],
   "source": [
    "13. What is the Central Limit Theorem (CLT), and why is it critical in statistics"
   ]
  },
  {
   "cell_type": "code",
   "execution_count": null,
   "id": "57802323-13ed-4bca-b900-57a80722649d",
   "metadata": {},
   "outputs": [],
   "source": [
    "Statement: The sampling distribution of the sample mean approaches a normal distribution as the sample size becomes large, regardless of the population's distribution, provided the samples are independent and identically distributed with a finite variance.\n",
    "\n",
    "Significance:\n",
    "\n",
    "Justifies the use of normal distribution in inferential statistics.\n",
    "\n",
    "Underpins many statistical procedures, including hypothesis testing and confidence intervals.\n",
    "\n"
   ]
  },
  {
   "cell_type": "code",
   "execution_count": null,
   "id": "db3867cf-69be-4914-a9d3-065eb66dcf49",
   "metadata": {},
   "outputs": [],
   "source": [
    "14. How does the Central Limit Theorem relate to the normal distribution"
   ]
  },
  {
   "cell_type": "code",
   "execution_count": null,
   "id": "ed70797c-940f-4f3c-848a-e1757786c3e3",
   "metadata": {},
   "outputs": [],
   "source": [
    "Statement: The sampling distribution of the sample mean approaches a normal distribution as the sample size becomes large, regardless of the population's distribution, provided the samples are independent and identically distributed with a finite variance.\n",
    "\n",
    "Significance:\n",
    "\n",
    "Justifies the use of normal distribution in inferential statistics.\n",
    "\n",
    "Underpins many statistical procedures, including hypothesis testing and confidence intervals.\n",
    "\n"
   ]
  },
  {
   "cell_type": "code",
   "execution_count": null,
   "id": "0352c3eb-bcb3-450b-a0c5-472a8ca5b3da",
   "metadata": {},
   "outputs": [],
   "source": [
    "15.What is the application of Z statistics in hypothesis testing\n",
    "\n"
   ]
  },
  {
   "cell_type": "code",
   "execution_count": null,
   "id": "05ff9bcc-e749-401c-b5bc-12d022a86b05",
   "metadata": {},
   "outputs": [],
   "source": [
    "Used when comparing sample means to known population means, especially with large sample sizes (n ≥ 30) and known population standard deviations.\n",
    "\n",
    "Helps determine if observed differences are statistically significant."
   ]
  },
  {
   "cell_type": "code",
   "execution_count": null,
   "id": "16c0b27e-0fd9-4cdc-ac87-ca78f8ed813e",
   "metadata": {},
   "outputs": [],
   "source": [
    "16. How do you calculate a Z-score, and what does it represent"
   ]
  },
  {
   "cell_type": "code",
   "execution_count": null,
   "id": "09249dab-2679-423c-9e6b-4fbbc33f7f3f",
   "metadata": {},
   "outputs": [],
   "source": [
    "Formula:\n",
    " \n",
    "\n",
    "Interpretation:\n",
    "\n",
    "Indicates how many standard deviations a data point (x) is from the mean (μ).\n",
    "\n",
    "Positive Z-score: value above the mean.\n",
    "\n",
    "Negative Z-score: value below the mean"
   ]
  },
  {
   "cell_type": "code",
   "execution_count": null,
   "id": "440e4e02-24c6-44c6-9fd5-dd664cf4efc0",
   "metadata": {},
   "outputs": [],
   "source": [
    "17. What are point estimates and interval estimates in statistics"
   ]
  },
  {
   "cell_type": "code",
   "execution_count": null,
   "id": "e10a83dc-1b53-44a0-88a4-efce638f6ef6",
   "metadata": {},
   "outputs": [],
   "source": [
    "Point Estimate: A single value estimate of a population parameter (e.g., sample mean as an estimate of population mean).\n",
    "\n",
    "Interval Estimate (Confidence Interval): A range of values, derived from the sample, that is likely to contain the population parameter with a certain level of confidence (e.g., 95%).\n",
    "\n"
   ]
  },
  {
   "cell_type": "code",
   "execution_count": null,
   "id": "d379aeff-9056-447e-a2c5-b8a9dae4a2e9",
   "metadata": {},
   "outputs": [],
   "source": [
    "18. What is the significance of confidence intervals in statistical analysis\n"
   ]
  },
  {
   "cell_type": "code",
   "execution_count": null,
   "id": "5511daa9-6e46-48b3-b134-169fbf63330c",
   "metadata": {},
   "outputs": [],
   "source": [
    "Significance:\n",
    "\n",
    "Provide a range within which the true population parameter is expected to lie.\n",
    "\n",
    "Offer insight into the precision and reliability of the estimate.\n",
    "\n",
    "Help assess the statistical significance of results."
   ]
  },
  {
   "cell_type": "code",
   "execution_count": null,
   "id": "e88583ec-6617-4c76-beb5-71521a0e0871",
   "metadata": {},
   "outputs": [],
   "source": [
    "19.What is the relationship between a Z-score and a confidence interval"
   ]
  },
  {
   "cell_type": "code",
   "execution_count": null,
   "id": "4b7e22b3-e6a7-49a4-a8bb-cadfd1cd0037",
   "metadata": {},
   "outputs": [],
   "source": [
    "A Z-score quantifies how many standard deviations a data point is from the mean. In the context of confidence intervals, Z-scores determine the critical values that define the interval's range. For instance, a 95% confidence interval corresponds to a Z-score of approximately ±1.96, meaning that 95% of data under a standard normal distribution falls within 1.96 standard deviations from the mean .\n",
    "\n",
    "The formula for a confidence interval (CI) for a population mean when the population standard deviation (σ) is known is:\n"
   ]
  },
  {
   "cell_type": "code",
   "execution_count": null,
   "id": "3c5ac043-53b7-4839-8f09-2ac985f19312",
   "metadata": {},
   "outputs": [],
   "source": [
    "20. How are Z-scores used to compare different distributions"
   ]
  },
  {
   "cell_type": "code",
   "execution_count": null,
   "id": "077a6149-8b67-4395-a496-f7ddf06c7201",
   "metadata": {},
   "outputs": [],
   "source": [
    "Z-scores standardize different datasets, allowing for direct comparison regardless of their original scales or units. By converting raw scores into Z-scores, you can assess how a particular value stands relative to its distribution. This is particularly useful when comparing scores from different tests or measurements with varying means and standard deviations"
   ]
  },
  {
   "cell_type": "code",
   "execution_count": null,
   "id": "ef56eb1b-f5de-4dd5-bb4a-5b903b1ae1ad",
   "metadata": {},
   "outputs": [],
   "source": [
    "21."
   ]
  }
 ],
 "metadata": {
  "kernelspec": {
   "display_name": "Python 3 (ipykernel)",
   "language": "python",
   "name": "python3"
  },
  "language_info": {
   "codemirror_mode": {
    "name": "ipython",
    "version": 3
   },
   "file_extension": ".py",
   "mimetype": "text/x-python",
   "name": "python",
   "nbconvert_exporter": "python",
   "pygments_lexer": "ipython3",
   "version": "3.12.7"
  }
 },
 "nbformat": 4,
 "nbformat_minor": 5
}
